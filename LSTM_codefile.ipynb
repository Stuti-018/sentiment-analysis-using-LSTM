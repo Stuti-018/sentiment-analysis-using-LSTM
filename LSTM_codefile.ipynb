{
 "cells": [
  {
   "attachments": {},
   "cell_type": "markdown",
   "metadata": {
    "id": "g46JijDMma2q"
   },
   "source": [
    "**Objective**:\n",
    "The objective of this assignment is to train a LSTM neural network to perform 3-class sentiment analysis on Twitter data."
   ]
  },
  {
   "attachments": {},
   "cell_type": "markdown",
   "metadata": {
    "id": "vbYMP32SmaoF"
   },
   "source": [
    "**Steps**\n",
    "\n",
    "*   Collect a sample of at least 100,000 tweets from the dataset.\n",
    "\n",
    "\n",
    "*   Preprocess the text data by removing punctuation, lowercasing, removing stop words, and tokenizing the words.\n",
    "\n",
    "*   Split the data into training and testing sets, and pad the sequences to the same length.\n",
    "\n",
    "*   Build a LSTM model to classify the tweets as positive, neutral, or negative. The model should have an Embedding layer, followed LSTM layers of your choosing, and a dense layer for output.\n",
    "\n",
    "*   Train the model on the training data and evaluate its performance on the testing data.\n",
    "\n",
    "*   Fine-tune the model by experimenting with different architectures, optimizers, activation functions, and hyperparameters. Feel free to experiment with GRUs.\n",
    "\n",
    "*   Report the accuracy, precision, recall, and F1 score of the model on the testing data. Inclue graphs and necessary data. Include this in a markdown cell within the notebook. Compare the basic LSTM model against SOTA and other architectures which you can directly import.\n",
    "\n",
    "\n",
    "*   Use the trained model to predict the sentiment of 25 new tweets with positive (2), neutral (1), or negative (0).\n"
   ]
  },
  {
   "cell_type": "markdown",
   "metadata": {
    "id": "gwxxNOJlmtrb"
   },
   "source": [
    "# Collection of data"
   ]
  },
  {
   "cell_type": "code",
   "execution_count": 1,
   "metadata": {
    "id": "kDVGXxUKvYxw"
   },
   "outputs": [],
   "source": [
    "import pandas as pd\n",
    "#data provided to us\n",
    "\n",
    "df1 = pd.read_csv('1.tsv', sep='\\t', header=None)\n",
    "df2= pd.read_csv('2.tsv', sep='\\t', header=None)\n",
    "df3 = pd.read_csv('3.txt', sep='\\t', header=None)\n",
    "df4 = pd.read_csv('4.txt', sep='\\t', header=None)\n",
    "df5 = pd.read_csv('5.txt', sep='\\t', header=None)\n",
    "df6 = pd.read_csv('6.txt', sep='\\t', header=None)\n",
    "df7 = pd.read_csv('7.txt', sep='\\t', header=None)\n",
    "df8 = pd.read_csv('8.txt', sep='\\t', header=None)\n",
    "df9 = pd.read_csv('9.txt', sep='\\t', header=None)\n",
    "df10 = pd.read_csv('10.txt', sep='\\t', header=None)\n",
    "df11 = pd.read_csv('11.txt', sep='\\t', header=None)\n",
    "df12 = pd.read_csv('12.txt', sep='\\t', header=None)\n",
    "df13 = pd.read_csv('13.txt', sep='\\t', header=None)\n",
    "\n",
    "#validation data from the link for \n",
    "df_val = pd.read_csv('testdata.manual.2009.06.14.csv',sep=',',encoding= 'latin-1',header=None)"
   ]
  },
  {
   "cell_type": "code",
   "execution_count": 2,
   "metadata": {
    "colab": {
     "base_uri": "https://localhost:8080/"
    },
    "id": "lhFTLdgYvYug",
    "outputId": "4c1574d0-244c-4b55-c51e-6877e02d01bc"
   },
   "outputs": [
    {
     "name": "stdout",
     "output_type": "stream",
     "text": [
      "(1142, 4)\n",
      "(2094, 4)\n",
      "(1654, 3)\n",
      "(3547, 3)\n",
      "(9684, 3)\n",
      "(49, 3)\n",
      "(1853, 3)\n",
      "(2390, 3)\n",
      "(489, 3)\n",
      "(1966, 3)\n",
      "(2000, 3)\n",
      "(20632, 4)\n",
      "(5868, 3)\n"
     ]
    }
   ],
   "source": [
    "dfs=[df1,df2,df3,df4,df5,df6,df7,df8,df9,df10,df11,df12,df13]#list of training data\n",
    "for i in dfs:\n",
    "    print(i.shape)"
   ]
  },
  {
   "cell_type": "markdown",
   "metadata": {
    "id": "Xh6fDdNZn9QD"
   },
   "source": [
    "Since the shape is different so we cannot append it as it is and need to resize the columns to append it."
   ]
  },
  {
   "cell_type": "code",
   "execution_count": 3,
   "metadata": {
    "colab": {
     "base_uri": "https://localhost:8080/"
    },
    "id": "I40lIpySvYrp",
    "outputId": "dbcedf20-5086-4329-fb48-6f34a721bf78"
   },
   "outputs": [
    {
     "name": "stdout",
     "output_type": "stream",
     "text": [
      "Length after appending all the dataframes shouls be 53368 13\n"
     ]
    }
   ],
   "source": [
    "s=0\n",
    "for i in dfs:\n",
    "    s += i.shape[0]\n",
    "print('Length after appending all the dataframes shouls be',s,len(dfs))"
   ]
  },
  {
   "cell_type": "code",
   "execution_count": 4,
   "metadata": {
    "colab": {
     "base_uri": "https://localhost:8080/",
     "height": 112
    },
    "id": "vEYVxbmCOjp_",
    "outputId": "16e2cdd7-8e75-45f2-8e7b-3a78a8f0b572"
   },
   "outputs": [
    {
     "data": {
      "text/html": [
       "<div>\n",
       "<style scoped>\n",
       "    .dataframe tbody tr th:only-of-type {\n",
       "        vertical-align: middle;\n",
       "    }\n",
       "\n",
       "    .dataframe tbody tr th {\n",
       "        vertical-align: top;\n",
       "    }\n",
       "\n",
       "    .dataframe thead th {\n",
       "        text-align: right;\n",
       "    }\n",
       "</style>\n",
       "<table border=\"1\" class=\"dataframe\">\n",
       "  <thead>\n",
       "    <tr style=\"text-align: right;\">\n",
       "      <th></th>\n",
       "      <th>0</th>\n",
       "      <th>1</th>\n",
       "      <th>2</th>\n",
       "      <th>3</th>\n",
       "    </tr>\n",
       "  </thead>\n",
       "  <tbody>\n",
       "    <tr>\n",
       "      <th>0</th>\n",
       "      <td>463584.0</td>\n",
       "      <td>LJ111111</td>\n",
       "      <td>negative</td>\n",
       "      <td>I know I missed something here , but what does...</td>\n",
       "    </tr>\n",
       "    <tr>\n",
       "      <th>1</th>\n",
       "      <td>463584.0</td>\n",
       "      <td>LJ111113</td>\n",
       "      <td>neutral</td>\n",
       "      <td>What do you think of Beside Ourselves as a tit...</td>\n",
       "    </tr>\n",
       "  </tbody>\n",
       "</table>\n",
       "</div>"
      ],
      "text/plain": [
       "          0         1         2  \\\n",
       "0  463584.0  LJ111111  negative   \n",
       "1  463584.0  LJ111113   neutral   \n",
       "\n",
       "                                                   3  \n",
       "0  I know I missed something here , but what does...  \n",
       "1  What do you think of Beside Ourselves as a tit...  "
      ]
     },
     "execution_count": 4,
     "metadata": {},
     "output_type": "execute_result"
    }
   ],
   "source": [
    "df1.head(2)"
   ]
  },
  {
   "cell_type": "code",
   "execution_count": 5,
   "metadata": {
    "colab": {
     "base_uri": "https://localhost:8080/",
     "height": 112
    },
    "id": "2iegWPWtOjmg",
    "outputId": "99370f03-0942-47aa-c5cf-c309959713f2"
   },
   "outputs": [
    {
     "data": {
      "text/html": [
       "<div>\n",
       "<style scoped>\n",
       "    .dataframe tbody tr th:only-of-type {\n",
       "        vertical-align: middle;\n",
       "    }\n",
       "\n",
       "    .dataframe tbody tr th {\n",
       "        vertical-align: top;\n",
       "    }\n",
       "\n",
       "    .dataframe thead th {\n",
       "        text-align: right;\n",
       "    }\n",
       "</style>\n",
       "<table border=\"1\" class=\"dataframe\">\n",
       "  <thead>\n",
       "    <tr style=\"text-align: right;\">\n",
       "      <th></th>\n",
       "      <th>0</th>\n",
       "      <th>1</th>\n",
       "      <th>2</th>\n",
       "    </tr>\n",
       "  </thead>\n",
       "  <tbody>\n",
       "    <tr>\n",
       "      <th>0</th>\n",
       "      <td>260097528899452929</td>\n",
       "      <td>neutral</td>\n",
       "      <td>Won the match #getin . Plus\\u002c tomorrow is ...</td>\n",
       "    </tr>\n",
       "    <tr>\n",
       "      <th>1</th>\n",
       "      <td>263791921753882624</td>\n",
       "      <td>neutral</td>\n",
       "      <td>Some areas of New England could see the first ...</td>\n",
       "    </tr>\n",
       "  </tbody>\n",
       "</table>\n",
       "</div>"
      ],
      "text/plain": [
       "                    0        1  \\\n",
       "0  260097528899452929  neutral   \n",
       "1  263791921753882624  neutral   \n",
       "\n",
       "                                                   2  \n",
       "0  Won the match #getin . Plus\\u002c tomorrow is ...  \n",
       "1  Some areas of New England could see the first ...  "
      ]
     },
     "execution_count": 5,
     "metadata": {},
     "output_type": "execute_result"
    }
   ],
   "source": [
    "df3.head(2)"
   ]
  },
  {
   "cell_type": "code",
   "execution_count": 6,
   "metadata": {
    "colab": {
     "base_uri": "https://localhost:8080/",
     "height": 112
    },
    "id": "H2iaMBhlOjje",
    "outputId": "8b794513-0013-4bd5-eee3-6845c623a4f5"
   },
   "outputs": [
    {
     "data": {
      "text/html": [
       "<div>\n",
       "<style scoped>\n",
       "    .dataframe tbody tr th:only-of-type {\n",
       "        vertical-align: middle;\n",
       "    }\n",
       "\n",
       "    .dataframe tbody tr th {\n",
       "        vertical-align: top;\n",
       "    }\n",
       "\n",
       "    .dataframe thead th {\n",
       "        text-align: right;\n",
       "    }\n",
       "</style>\n",
       "<table border=\"1\" class=\"dataframe\">\n",
       "  <thead>\n",
       "    <tr style=\"text-align: right;\">\n",
       "      <th></th>\n",
       "      <th>0</th>\n",
       "      <th>1</th>\n",
       "      <th>2</th>\n",
       "      <th>3</th>\n",
       "    </tr>\n",
       "  </thead>\n",
       "  <tbody>\n",
       "    <tr>\n",
       "      <th>0</th>\n",
       "      <td>619950566786113536</td>\n",
       "      <td>neutral</td>\n",
       "      <td>Picturehouse's, Pink Floyd's, 'Roger Waters: T...</td>\n",
       "      <td>NaN</td>\n",
       "    </tr>\n",
       "    <tr>\n",
       "      <th>1</th>\n",
       "      <td>619969366986235905</td>\n",
       "      <td>neutral</td>\n",
       "      <td>Order Go Set a Watchman in store or through ou...</td>\n",
       "      <td>NaN</td>\n",
       "    </tr>\n",
       "  </tbody>\n",
       "</table>\n",
       "</div>"
      ],
      "text/plain": [
       "                    0        1  \\\n",
       "0  619950566786113536  neutral   \n",
       "1  619969366986235905  neutral   \n",
       "\n",
       "                                                   2    3  \n",
       "0  Picturehouse's, Pink Floyd's, 'Roger Waters: T...  NaN  \n",
       "1  Order Go Set a Watchman in store or through ou...  NaN  "
      ]
     },
     "execution_count": 6,
     "metadata": {},
     "output_type": "execute_result"
    }
   ],
   "source": [
    "df12.head(2)"
   ]
  },
  {
   "cell_type": "code",
   "execution_count": 7,
   "metadata": {
    "colab": {
     "base_uri": "https://localhost:8080/"
    },
    "id": "1DRYFHlpvYpo",
    "outputId": "5a08dcb8-e45c-4252-e5fa-8c51a4082377"
   },
   "outputs": [
    {
     "data": {
      "text/plain": [
       "[         class                                              tweet\n",
       " 0     negative  I know I missed something here , but what does...\n",
       " 1      neutral  What do you think of Beside Ourselves as a tit...\n",
       " 2     positive                    :D I intend to be one someday .\n",
       " 3     negative  LLLINKKK LLLINKKK IIIMAGEEELLLINKKK The choice...\n",
       " 4      neutral                     LLLINKKK Some more mountains .\n",
       " ...        ...                                                ...\n",
       " 1137  positive                     Maybe it was - his - fantasy ?\n",
       " 1138  negative  It was ok , but they always just seem so nervo...\n",
       " 1139  positive  It is streamable from YepRoc -- matter of fact...\n",
       " 1140  positive  comment telling me who you are , or how you fo...\n",
       " 1141   neutral  im on myspace ... ill try and find you and add...\n",
       " \n",
       " [1142 rows x 2 columns],\n",
       "          class                                              tweet\n",
       " 0      neutral  Yes i am going from school have class till 5 c...\n",
       " 1      neutral  can u tape the match for me?  i\\u2019ll rush o...\n",
       " 2      neutral  Too many people at my house my relatives are h...\n",
       " 3     negative  Yea I have spoken to him liao. Indeed he is up...\n",
       " 4     positive  Haha... I want to see. E macdonalds here cheap...\n",
       " ...        ...                                                ...\n",
       " 2089  negative  Oki... Think i\\u2019m confused... I only know ...\n",
       " 2090   neutral  Yup... Ok i go home look at the timings then i...\n",
       " 2091   neutral            Here got lots of hair dresser fr china.\n",
       " 2092   neutral  no alh  we are not discussing fromt he viewpoi...\n",
       " 2093   neutral  Not dat i dun wan sign up but i wan only for a...\n",
       " \n",
       " [2094 rows x 2 columns],\n",
       "          class                                              tweet\n",
       " 0      neutral  Won the match #getin . Plus\\u002c tomorrow is ...\n",
       " 1      neutral  Some areas of New England could see the first ...\n",
       " 2     negative  @francesco_con40 2nd worst QB. DEFINITELY Tony...\n",
       " 3      neutral  #Thailand Washington - US President Barack Oba...\n",
       " 4      neutral  Did y\\u2019all hear what Tony Romo dressed up ...\n",
       " ...        ...                                                ...\n",
       " 1649   neutral  #WEB YouTube improves upload process with opti...\n",
       " 1650  positive  Gonna change my Tumblr theme. I hope I can fin...\n",
       " 1651   neutral  I\\u2019m so jealous of everyone at the Justin ...\n",
       " 1652   neutral  Jim Harbaugh\\u002c Alex Smith Drive Giants Wor...\n",
       " 1653   neutral  #Trending: Tim Tebow is now dating cave woman ...\n",
       " \n",
       " [1654 rows x 2 columns],\n",
       "          class                                              tweet\n",
       " 0     positive  @jjuueellzz down in the Atlantic city, ventnor...\n",
       " 1     positive  Musical awareness: Great Big Beautiful Tomorro...\n",
       " 2      neutral  On Radio786 100.4fm 7:10 Fri Oct 19 Labour ana...\n",
       " 3     negative  Kapan sih lo ngebuktiin,jan ngomong doang Susa...\n",
       " 4      neutral  Excuse the connectivity of this live stream, f...\n",
       " ...        ...                                                ...\n",
       " 3542  negative  Khaleda Zia's present India visit may have a b...\n",
       " 3543   neutral  FYI, golf fans: @jameslepp will join Moj on We...\n",
       " 3544  negative  @__Aniko you think mr.Calle let practice with ...\n",
       " 3545  positive  Don't hide under your desk! It's just a salsa ...\n",
       " 3546   neutral  Saturday flashmob on the music of The Runaways...\n",
       " \n",
       " [3547 rows x 2 columns],\n",
       "          class                                              tweet\n",
       " 0     positive  Gas by my house hit $3.39!!!! I\\u2019m going t...\n",
       " 1     negative  Theo Walcott is still shit\\u002c watch Rafa an...\n",
       " 2     negative  its not that I\\u2019m a GSP fan\\u002c i just h...\n",
       " 3     negative  Iranian general says Israel\\u2019s Iron Dome c...\n",
       " 4      neutral  Tehran\\u002c Mon Amour: Obama Tried to Establi...\n",
       " ...        ...                                                ...\n",
       " 9679  positive  RT @MNFootNg It's monday and Monday Night Foot...\n",
       " 9680  positive  All I know is the road for that Lomardi start ...\n",
       " 9681   neutral  All Blue and White fam, we r meeting at Golden...\n",
       " 9682  positive  @DariusButler28   Have a great game agaist Tam...\n",
       " 9683  negative  I'm pisseeedddd that I missed Kid Cudi's show ...\n",
       " \n",
       " [9684 rows x 2 columns],\n",
       "        class                                              tweet\n",
       " 0   negative  @MetroNorth wall to wall people on the platfor...\n",
       " 1   negative  RT @katie_rohaley: School on Monday is just go...\n",
       " 2   negative  Who needs sleep? It's not like I have a test t...\n",
       " 3    neutral  @rob_yost -Hashtags can express humor, excitem...\n",
       " 4   positive  Grades come out tomorrow #soexcited\\n432245861...\n",
       " 5   positive  It's Super Bowl Sunday, pastors. Get your Jesu...\n",
       " 6   negative  More snow tomorrow... fantastic. #ihatesnow\\n4...\n",
       " 7   negative  Oh, gutted...Just seen the transfer window is ...\n",
       " 8   negative  @lisa_keeno nah wasn hi. Cud do with him da da...\n",
       " 9   positive  Such a banging friday night!! Writing my MUN r...\n",
       " 10  positive  Happy Monday #patiovortex #myaznow #instagrama...\n",
       " 11  positive  Thanks to that Oklahoma sun I have the sexiest...\n",
       " 12  negative  I may or may not be getting sick...perfect. #i...\n",
       " 13  negative  @nbamark I miss the -30 January days\\n42680525...\n",
       " 14  positive  I get to go see my endo tomorrow. Let just say...\n",
       " 15   neutral  @ellymarie3 @dhb7 @CommonCrud @dcepa @KentSail...\n",
       " 16   neutral  John Fox kicking the field goal on 4th and 1 #...\n",
       " 17  positive  my birthday is an hour away &amp; i'm crying. ...\n",
       " 18  positive  Friday night footy with the mozzie's. So much ...\n",
       " 19  positive  Nice to know my friends care and are genuinely...\n",
       " 20   neutral   @angie_m24 go to sleep you have school tomorrow\"\n",
       " 21  negative  Such a fun Saturday catching up on hw..\\n43668...\n",
       " 22  positive  RT @likewoahitsash: Exciting Saturday night wa...\n",
       " 23   neutral  If this year is anything like last year, KI's ...\n",
       " 24  positive  New set this Wednesday. 1st set - originals &a...\n",
       " 25   neutral  Leg day tomorrow &gt;&gt;&gt;&gt;&gt;&gt;\\n426...\n",
       " 26  negative  @_christyna_ @ManUtd The next time they show u...\n",
       " 27  positive  Ima look real manly Friday at the video store....\n",
       " 28  negative  RT @ebenson12: I can't wait to read all the tw...\n",
       " 29  positive  !!!!!!!! RT @FaithGroves744: It's definitely g...\n",
       " 30  negative  Closed tomorrow...I don't think anyone saw tha...\n",
       " 31  positive  Double IT first thing tomorrow! YYYYEEEESSSS!!...\n",
       " 32  negative  Single awareness day is on Friday and I can't ...\n",
       " 33   neutral  May monthly theme ata ang floor namin: last mo...\n",
       " 34  negative  @QLDLabor c'mon now that's unfair I'm sure it'...\n",
       " 35  negative  Oh no I have to do a 10-slide presentation on ...\n",
       " 36  positive  Karime is SO EXCITED there's no school tomorro...\n",
       " 37  positive  Looks like we're getting the heaviest snowfall...\n",
       " 38  negative  On the bright side we have school today... Tom...\n",
       " 39  negative  Ahh...nothing like a Saturday full of errands ...\n",
       " 40  negative  3 hrs later still on the phone with @comcast o...\n",
       " 41  negative  Oh goodie it's gonna be a snow storm tomorrow ...\n",
       " 42  negative  My fave kinda Monday evening: fixing my effed ...\n",
       " 43  positive  4 tests tomorrow #excited\\n429911838206074883\\...\n",
       " 44  positive  pretty sure it's the end of the school week no...\n",
       " 45  negative  Uhg, my procedure isn't even until tomorrow, a...\n",
       " 46  positive  This week just keeps getting better and better...\n",
       " 47  negative  Oh is there really a 2 hour delay tomorrow oh ...\n",
       " 48  positive  More snow tomorrow Wooooooooooooooo! @Taggzzz ...,\n",
       "          class                                              tweet\n",
       " 0     positive  i'm done writing code for the week! Looks like...\n",
       " 1      neutral  dec 21st 2012 will be know not as the end of t...\n",
       " 2     negative  @MacMiller hate my life, because i can't see y...\n",
       " 3     positive  Checked out Our Lady Peace at Bluesfest tonigh...\n",
       " 4     positive  Hello from the Foundation Trekkers! We're up i...\n",
       " ...        ...                                                ...\n",
       " 1848   neutral  It's a Wednesday girls night out as '90's band...\n",
       " 1849  positive  night college course sorted, just have to enro...\n",
       " 1850  positive  For the 1st time in 30 years. For your splendi...\n",
       " 1851  positive  NURSES DAY - 12 MAY 2012. Nursing: The heart b...\n",
       " 1852   neutral  We have 15 minutes left until the 2nd episode ...\n",
       " \n",
       " [1853 rows x 2 columns],\n",
       "          class                                              tweet\n",
       " 0     negative  Saturday without Leeds United is like Sunday w...\n",
       " 1     positive  Catch Rainbow Valley at the @CBC #IMAF2014 Gal...\n",
       " 2     positive  @NiklaklePinkel it doesn't really count, I was...\n",
       " 3     positive  #BEARDOWN Wish us luck...we may need it. (@ Ge...\n",
       " 4     positive  We're so excited to be part of the Still We Ri...\n",
       " ...        ...                                                ...\n",
       " 2385   neutral  the day after newark ill be able to say \"\"i me...\n",
       " 2386   neutral  FEC hold farewell session for seven ministers ...\n",
       " 2387   neutral  Luca Di Montezemolo (who's last day was Monday...\n",
       " 2388  positive  Coffee is pretty much the answer to all questi...\n",
       " 2389   neutral  Niki Lauda just confirmed to Sky that Alonso w...\n",
       " \n",
       " [2390 rows x 2 columns],\n",
       "         class                                              tweet\n",
       " 0    negative  I forgot how sad the first episode of the 5th ...\n",
       " 1    negative  Oct. 2 is almost too far away for me to wait f...\n",
       " 2     neutral  (OFF TOPIC) - there is only 3 episodes on the ...\n",
       " 3     neutral  @iheardavoicesay is finally catching up to me ...\n",
       " 4     neutral  I downloaded the first season of #Dexter, gonn...\n",
       " ..        ...                                                ...\n",
       " 484  positive  Cant wait to see \\\"\"Flight\\\"\" on Saturday\\u002...\n",
       " 485  positive  Gotta go see Flight tomorrow Denzel is the gre...\n",
       " 486  positive  Hey I wanna see Flight tomorrow with Denzel ol...\n",
       " 487  positive  That movie Flight with Denzel looks really goo...\n",
       " 488  positive  \\\"\"@bline803rasta: Mane I gotta see that Denze...\n",
       " \n",
       " [489 rows x 2 columns],\n",
       "          class                                              tweet\n",
       " 0      neutral  05 Beat it - Michael Jackson - Thriller (25th ...\n",
       " 1     positive  Jay Z joins Instagram with nostalgic tribute t...\n",
       " 2      neutral  Michael Jackson: Bad 25th Anniversary Edition ...\n",
       " 3     positive  I liked a @YouTube video http://t.co/AaR3pjp2P...\n",
       " 4     positive  18th anniv of Princess Diana's death. I still ...\n",
       " ...        ...                                                ...\n",
       " 1961  positive  I need to become a celebrity so I can just be ...\n",
       " 1962  positive         Snoop dogg may be the funniest human alive\n",
       " 1963   neutral  I'm only ok with 3rd floor playing Snoop Dogg ...\n",
       " 1964  positive  SNOOP DOGG AKA SNOOPADELIC friday friday only ...\n",
       " 1965  positive  I can't stop thinking about the fact that I'm ...\n",
       " \n",
       " [1966 rows x 2 columns],\n",
       "          class                                              tweet\n",
       " 0      neutral  @SeeMonterey LOST - Sony cell phone with holid...\n",
       " 1      neutral  @PersonaSoda well yeah, that's third parties. ...\n",
       " 2     negative  Sony rewards app is like a lot of 19 y.o femal...\n",
       " 3      neutral  @fakethom Have android tab and don't use phone...\n",
       " 4     positive  Finally I get my ps4 back I sent it to Sony ca...\n",
       " ...        ...                                                ...\n",
       " 1995   neutral  @YouAreMyArsenal Wouldn't surprise me if we en...\n",
       " 1996   neutral  Rib injury for Zlatan against Russia is a big ...\n",
       " 1997   neutral  Noooooo! I was hoping to see Zlatan being Zlat...\n",
       " 1998   neutral  @Fronsoir Zlatan has never done it on a wet Tu...\n",
       " 1999   neutral  @ZIatanVines  how many goals Zlatan intends to...\n",
       " \n",
       " [2000 rows x 2 columns],\n",
       "           class                                              tweet\n",
       " 0       neutral  Picturehouse's, Pink Floyd's, 'Roger Waters: T...\n",
       " 1       neutral  Order Go Set a Watchman in store or through ou...\n",
       " 2      negative  If these runway renovations at the airport pre...\n",
       " 3       neutral  If you could ask an onstage interview question...\n",
       " 4      positive  A portion of book sales from our Harper Lee/Go...\n",
       " ...         ...                                                ...\n",
       " 20627   neutral  @ShaquilleHoNeal from what I think you're aski...\n",
       " 20628  positive  Iran ranks 1st in liver surgeries, Allah bless...\n",
       " 20629   neutral  Hours before he arrived in Saudi Arabia on Tue...\n",
       " 20630  negative  @VanityFair  Alex Kim Kardashian worth how to ...\n",
       " 20631   neutral  I guess even Pandora knows Justin Bieber is a ...\n",
       " \n",
       " [20632 rows x 2 columns],\n",
       "          class                                              tweet\n",
       " 0     negative  dear @Microsoft the newOoffice for Mac is grea...\n",
       " 1     negative  @Microsoft how about you make a system that do...\n",
       " 2     negative  I may be ignorant on this issue but... should ...\n",
       " 3     negative  Thanks to @microsoft, I just may be switching ...\n",
       " 4      neutral  If I make a game as a #windows10 Universal App...\n",
       " ...        ...                                                ...\n",
       " 5863  positive  @Racalto_SK ok good to know. Punting at MetLif...\n",
       " 5864   neutral  everyone who sat around me at metlife was so a...\n",
       " 5865   neutral  what giants or niners fans would wanna go to t...\n",
       " 5866  positive  Anybody want a ticket for tomorrow Colombia vs...\n",
       " 5867   neutral  Mendez told me he'd drive me to MetLife on Sun...\n",
       " \n",
       " [5868 rows x 2 columns]]"
      ]
     },
     "execution_count": 7,
     "metadata": {},
     "output_type": "execute_result"
    }
   ],
   "source": [
    "# drop last column from df12\n",
    "df12.drop([3], axis=1,inplace=True) \n",
    "\n",
    "#drop first and second columns from df1 and df2 and rename the text columns\n",
    "df1.drop([0,1],axis=1,inplace=True)\n",
    "df1.rename(columns = {2:'class',3:'tweet'}, inplace = True)\n",
    "df2.drop([0,1],axis=1,inplace=True)\n",
    "df2.rename(columns = {2:'class',3:'tweet'}, inplace = True)\n",
    "\n",
    "#drop the first column from the rest of the dataframes\n",
    "for i in dfs[2:]:\n",
    "    i.drop([0], axis=1,inplace = True)\n",
    "\n",
    "#rename the text column and the label column as well\n",
    "for i in dfs[2:]:\n",
    "    i.rename(columns = {1:'class',2:'tweet'}, inplace = True)\n",
    "\n",
    "dfs"
   ]
  },
  {
   "cell_type": "code",
   "execution_count": 8,
   "metadata": {
    "id": "rAm_8SnxoXaD"
   },
   "outputs": [],
   "source": [
    "df_train=pd.concat(dfs, axis=0, ignore_index=False)# join all the dataframes"
   ]
  },
  {
   "cell_type": "code",
   "execution_count": 9,
   "metadata": {
    "colab": {
     "base_uri": "https://localhost:8080/"
    },
    "id": "JOAB5yBDog08",
    "outputId": "e13ece30-1314-4b84-e211-1af1cf3ddf02"
   },
   "outputs": [
    {
     "data": {
      "text/plain": [
       "(53368, 2)"
      ]
     },
     "execution_count": 9,
     "metadata": {},
     "output_type": "execute_result"
    }
   ],
   "source": [
    "df_train.shape\n",
    "#the slength matches of the sum of the dataframes we wanted."
   ]
  },
  {
   "cell_type": "code",
   "execution_count": 10,
   "metadata": {
    "colab": {
     "base_uri": "https://localhost:8080/",
     "height": 112
    },
    "id": "-Lp0AQddqIaC",
    "outputId": "9268af11-6625-45fa-a67b-b7f091cedefc"
   },
   "outputs": [
    {
     "data": {
      "text/html": [
       "<div>\n",
       "<style scoped>\n",
       "    .dataframe tbody tr th:only-of-type {\n",
       "        vertical-align: middle;\n",
       "    }\n",
       "\n",
       "    .dataframe tbody tr th {\n",
       "        vertical-align: top;\n",
       "    }\n",
       "\n",
       "    .dataframe thead th {\n",
       "        text-align: right;\n",
       "    }\n",
       "</style>\n",
       "<table border=\"1\" class=\"dataframe\">\n",
       "  <thead>\n",
       "    <tr style=\"text-align: right;\">\n",
       "      <th></th>\n",
       "      <th>class</th>\n",
       "      <th>tweet</th>\n",
       "    </tr>\n",
       "  </thead>\n",
       "  <tbody>\n",
       "    <tr>\n",
       "      <th>0</th>\n",
       "      <td>negative</td>\n",
       "      <td>I know I missed something here , but what does...</td>\n",
       "    </tr>\n",
       "    <tr>\n",
       "      <th>1</th>\n",
       "      <td>neutral</td>\n",
       "      <td>What do you think of Beside Ourselves as a tit...</td>\n",
       "    </tr>\n",
       "  </tbody>\n",
       "</table>\n",
       "</div>"
      ],
      "text/plain": [
       "      class                                              tweet\n",
       "0  negative  I know I missed something here , but what does...\n",
       "1   neutral  What do you think of Beside Ourselves as a tit..."
      ]
     },
     "execution_count": 10,
     "metadata": {},
     "output_type": "execute_result"
    }
   ],
   "source": [
    "train_df= df_train.copy()#create its copy\n",
    "train_df.drop_duplicates(subset='tweet',inplace=True)\n",
    "train_df.head(2)"
   ]
  },
  {
   "cell_type": "code",
   "execution_count": 11,
   "metadata": {
    "colab": {
     "base_uri": "https://localhost:8080/",
     "height": 112
    },
    "id": "UvITp3qAoihe",
    "outputId": "4c4a7b6d-864a-497a-b236-aeafd0edb24b"
   },
   "outputs": [
    {
     "data": {
      "text/html": [
       "<div>\n",
       "<style scoped>\n",
       "    .dataframe tbody tr th:only-of-type {\n",
       "        vertical-align: middle;\n",
       "    }\n",
       "\n",
       "    .dataframe tbody tr th {\n",
       "        vertical-align: top;\n",
       "    }\n",
       "\n",
       "    .dataframe thead th {\n",
       "        text-align: right;\n",
       "    }\n",
       "</style>\n",
       "<table border=\"1\" class=\"dataframe\">\n",
       "  <thead>\n",
       "    <tr style=\"text-align: right;\">\n",
       "      <th></th>\n",
       "      <th>0</th>\n",
       "      <th>1</th>\n",
       "      <th>2</th>\n",
       "      <th>3</th>\n",
       "      <th>4</th>\n",
       "      <th>5</th>\n",
       "    </tr>\n",
       "  </thead>\n",
       "  <tbody>\n",
       "    <tr>\n",
       "      <th>0</th>\n",
       "      <td>4</td>\n",
       "      <td>3</td>\n",
       "      <td>Mon May 11 03:17:40 UTC 2009</td>\n",
       "      <td>kindle2</td>\n",
       "      <td>tpryan</td>\n",
       "      <td>@stellargirl I loooooooovvvvvveee my Kindle2. ...</td>\n",
       "    </tr>\n",
       "    <tr>\n",
       "      <th>1</th>\n",
       "      <td>4</td>\n",
       "      <td>4</td>\n",
       "      <td>Mon May 11 03:18:03 UTC 2009</td>\n",
       "      <td>kindle2</td>\n",
       "      <td>vcu451</td>\n",
       "      <td>Reading my kindle2...  Love it... Lee childs i...</td>\n",
       "    </tr>\n",
       "  </tbody>\n",
       "</table>\n",
       "</div>"
      ],
      "text/plain": [
       "   0  1                             2        3       4  \\\n",
       "0  4  3  Mon May 11 03:17:40 UTC 2009  kindle2  tpryan   \n",
       "1  4  4  Mon May 11 03:18:03 UTC 2009  kindle2  vcu451   \n",
       "\n",
       "                                                   5  \n",
       "0  @stellargirl I loooooooovvvvvveee my Kindle2. ...  \n",
       "1  Reading my kindle2...  Love it... Lee childs i...  "
      ]
     },
     "execution_count": 11,
     "metadata": {},
     "output_type": "execute_result"
    }
   ],
   "source": [
    "df_val.head(2)"
   ]
  },
  {
   "cell_type": "markdown",
   "metadata": {
    "id": "ag_DCX5Qpu3w"
   },
   "source": [
    "Make the validation data like training data"
   ]
  },
  {
   "cell_type": "code",
   "execution_count": 12,
   "metadata": {
    "id": "n8vcLzzfonPp"
   },
   "outputs": [],
   "source": [
    "df_val.drop([1,2,3,4],axis=1,inplace=True)\n",
    "df_val.rename(columns = {0:'class',5:'tweet'}, inplace = True)"
   ]
  },
  {
   "cell_type": "code",
   "execution_count": 13,
   "metadata": {
    "colab": {
     "base_uri": "https://localhost:8080/",
     "height": 112
    },
    "id": "if7cTzSg_Z67",
    "outputId": "2d560984-127d-4e06-e84f-540b662534a3"
   },
   "outputs": [
    {
     "data": {
      "text/html": [
       "<div>\n",
       "<style scoped>\n",
       "    .dataframe tbody tr th:only-of-type {\n",
       "        vertical-align: middle;\n",
       "    }\n",
       "\n",
       "    .dataframe tbody tr th {\n",
       "        vertical-align: top;\n",
       "    }\n",
       "\n",
       "    .dataframe thead th {\n",
       "        text-align: right;\n",
       "    }\n",
       "</style>\n",
       "<table border=\"1\" class=\"dataframe\">\n",
       "  <thead>\n",
       "    <tr style=\"text-align: right;\">\n",
       "      <th></th>\n",
       "      <th>class</th>\n",
       "      <th>tweet</th>\n",
       "    </tr>\n",
       "  </thead>\n",
       "  <tbody>\n",
       "    <tr>\n",
       "      <th>0</th>\n",
       "      <td>4</td>\n",
       "      <td>@stellargirl I loooooooovvvvvveee my Kindle2. ...</td>\n",
       "    </tr>\n",
       "    <tr>\n",
       "      <th>1</th>\n",
       "      <td>4</td>\n",
       "      <td>Reading my kindle2...  Love it... Lee childs i...</td>\n",
       "    </tr>\n",
       "  </tbody>\n",
       "</table>\n",
       "</div>"
      ],
      "text/plain": [
       "   class                                              tweet\n",
       "0      4  @stellargirl I loooooooovvvvvveee my Kindle2. ...\n",
       "1      4  Reading my kindle2...  Love it... Lee childs i..."
      ]
     },
     "execution_count": 13,
     "metadata": {},
     "output_type": "execute_result"
    }
   ],
   "source": [
    "df_val.head(2)"
   ]
  },
  {
   "cell_type": "code",
   "execution_count": 14,
   "metadata": {
    "colab": {
     "base_uri": "https://localhost:8080/"
    },
    "id": "xvvWXSwFpCrT",
    "outputId": "957ac408-ec24-4512-95dd-67a7df5beeba"
   },
   "outputs": [
    {
     "data": {
      "text/plain": [
       "neutral     24143\n",
       "positive    20718\n",
       "negative     8507\n",
       "Name: class, dtype: int64"
      ]
     },
     "execution_count": 14,
     "metadata": {},
     "output_type": "execute_result"
    }
   ],
   "source": [
    "df_train['class'].value_counts()"
   ]
  },
  {
   "cell_type": "code",
   "execution_count": 15,
   "metadata": {
    "colab": {
     "base_uri": "https://localhost:8080/"
    },
    "id": "SM58w9ioo_Xe",
    "outputId": "d572146f-d43b-4935-f654-8d2c70984782"
   },
   "outputs": [
    {
     "data": {
      "text/plain": [
       "4    182\n",
       "0    177\n",
       "2    139\n",
       "Name: class, dtype: int64"
      ]
     },
     "execution_count": 15,
     "metadata": {},
     "output_type": "execute_result"
    }
   ],
   "source": [
    "df_val['class'].value_counts()# 0- Negative , 2- Neutral , 4- positive"
   ]
  },
  {
   "cell_type": "code",
   "execution_count": 16,
   "metadata": {
    "id": "JCKgKpI0onts"
   },
   "outputs": [],
   "source": [
    "#Do Label encoding for the class column in both train and validation data\n",
    "df_val['class']=df_val['class'].map({0:0,2:1,4:2})\n",
    "train_df['class']=train_df['class'].map({'negative':0,'neutral':1,'positive':2})# change in copied data"
   ]
  },
  {
   "cell_type": "markdown",
   "metadata": {
    "id": "M8iXdhO1qNBL"
   },
   "source": [
    "# Preprocess the text data by removing punctuation, lowercasing, removing stop words, and tokenizing the words"
   ]
  },
  {
   "cell_type": "code",
   "execution_count": 17,
   "metadata": {
    "colab": {
     "base_uri": "https://localhost:8080/"
    },
    "id": "DuItmh3BEpXQ",
    "outputId": "1775bd29-6938-4798-8e15-a37530db0389"
   },
   "outputs": [
    {
     "name": "stderr",
     "output_type": "stream",
     "text": [
      "[nltk_data] Downloading package stopwords to\n",
      "[nltk_data]     C:\\Users\\pasri\\AppData\\Roaming\\nltk_data...\n",
      "[nltk_data]   Package stopwords is already up-to-date!\n",
      "[nltk_data] Downloading package punkt to\n",
      "[nltk_data]     C:\\Users\\pasri\\AppData\\Roaming\\nltk_data...\n",
      "[nltk_data]   Package punkt is already up-to-date!\n",
      "[nltk_data] Downloading package wordnet to\n",
      "[nltk_data]     C:\\Users\\pasri\\AppData\\Roaming\\nltk_data...\n",
      "[nltk_data]   Package wordnet is already up-to-date!\n"
     ]
    }
   ],
   "source": [
    "import numpy as np\n",
    "import pandas as pd\n",
    "import re\n",
    "import nltk\n",
    "from nltk.corpus import stopwords\n",
    "from nltk.tokenize import word_tokenize\n",
    "from nltk.stem import WordNetLemmatizer \n",
    "nltk.download('stopwords')\n",
    "nltk.download('punkt')\n",
    "nltk.download('wordnet')\n",
    "import spacy\n",
    "import re\n",
    "nlp = spacy.load('en_core_web_sm')\n"
   ]
  },
  {
   "cell_type": "code",
   "execution_count": 18,
   "metadata": {
    "id": "xnZudM4tGd_S"
   },
   "outputs": [],
   "source": [
    "train_df[\"tweet\"] = train_df['tweet'].apply(lambda x: \" \".join([y.lemma_ for y in nlp(x) if not y.is_stop]))"
   ]
  },
  {
   "cell_type": "code",
   "execution_count": 19,
   "metadata": {
    "id": "7rDsU8UAnKlA"
   },
   "outputs": [],
   "source": [
    "#data processing\n",
    "import string\n",
    "import re,emoji\n",
    "##CUSTOM DEFINED FUNCTIONS TO CLEAN THE TWEETS\n",
    "\n",
    "#Clean emojis from text\n",
    "def strip_emoji(text):\n",
    "    return re.sub(emoji.get_emoji_regexp(), r\"\", text) #remove emoji\n",
    "\n",
    "#Remove punctuations, links, mentions and \\r\\n new line characters\n",
    "def strip_all_entities(text): \n",
    "    text = text.replace('\\r', '').replace('\\n', ' ').replace('\\n', ' ').lower() #remove \\n and \\r and lowercase\n",
    "    text = re.sub(r\"(?:\\@|https?\\://)\\S+\", \"\", text) #remove links and mentions\n",
    "    text = re.sub(r'[^\\x00-\\x7f]',r'', text) #remove non utf8/ascii characters such as '\\x9a\\x91\\x97\\x9a\\x97'\n",
    "    banned_list= string.punctuation + 'Ã'+'±'+'ã'+'¼'+'â'+'»'+'§'\n",
    "    table = str.maketrans('', '', banned_list)\n",
    "    text = text.translate(table)\n",
    "    return text\n",
    "\n",
    "#clean hashtags at the end of the sentence, and keep those in the middle of the sentence by removing just the # symbol\n",
    "def clean_hashtags(tweet):\n",
    "    new_tweet = \" \".join(word.strip() for word in re.split('#(?!(?:hashtag)\\b)[\\w-]+(?=(?:\\s+#[\\w-]+)*\\s*$)', tweet)) #remove last hashtags\n",
    "    new_tweet2 = \" \".join(word.strip() for word in re.split('#|_', new_tweet)) #remove hashtags symbol from words in the middle of the sentence\n",
    "    return new_tweet2\n",
    "\n",
    "#Filter special characters such as & and $ present in some words\n",
    "def filter_chars(a):\n",
    "    sent = []\n",
    "    for word in a.split(' '):\n",
    "        if ('$' in word) | ('&' in word):\n",
    "            sent.append('')\n",
    "        else:\n",
    "            sent.append(word)\n",
    "    return ' '.join(sent)\n",
    "\n",
    "def remove_mult_spaces(text): # remove multiple spaces\n",
    "    return re.sub(\"\\s\\s+\" , \" \", text)"
   ]
  },
  {
   "cell_type": "code",
   "execution_count": 20,
   "metadata": {
    "id": "7xMA36iMndoS"
   },
   "outputs": [
    {
     "name": "stderr",
     "output_type": "stream",
     "text": [
      "C:\\Users\\pasri\\AppData\\Local\\Temp\\ipykernel_18420\\1276123956.py:8: DeprecationWarning: 'emoji.get_emoji_regexp()' is deprecated and will be removed in version 2.0.0. If you want to remove emoji from a string, consider the method emoji.replace_emoji(str, replace='').\n",
      "To hide this warning, pin/downgrade the package to 'emoji~=1.6.3'\n",
      "  return re.sub(emoji.get_emoji_regexp(), r\"\", text) #remove emoji\n"
     ]
    }
   ],
   "source": [
    "train_df['tweet'] = train_df['tweet'].apply(lambda x: remove_mult_spaces(filter_chars(clean_hashtags(strip_all_entities(strip_emoji(x))))))"
   ]
  },
  {
   "cell_type": "code",
   "execution_count": 21,
   "metadata": {
    "id": "Sk_U2eSwnmJ0"
   },
   "outputs": [
    {
     "name": "stderr",
     "output_type": "stream",
     "text": [
      "C:\\Users\\pasri\\AppData\\Local\\Temp\\ipykernel_18420\\1276123956.py:8: DeprecationWarning: 'emoji.get_emoji_regexp()' is deprecated and will be removed in version 2.0.0. If you want to remove emoji from a string, consider the method emoji.replace_emoji(str, replace='').\n",
      "To hide this warning, pin/downgrade the package to 'emoji~=1.6.3'\n",
      "  return re.sub(emoji.get_emoji_regexp(), r\"\", text) #remove emoji\n"
     ]
    }
   ],
   "source": [
    "df_val[\"tweet\"] = df_val['tweet'].apply(lambda x: \" \".join([y.lemma_ for y in nlp(x) if not y.is_stop]))\n",
    "df_val['tweet'] = df_val['tweet'].apply(lambda x: remove_mult_spaces(filter_chars(clean_hashtags(strip_all_entities(strip_emoji(x))))))"
   ]
  },
  {
   "cell_type": "code",
   "execution_count": 24,
   "metadata": {
    "id": "encaO-9Fgr07"
   },
   "outputs": [],
   "source": [
    "train=pd.concat([train_df,df_val], axis=0, ignore_index=False)#joining val and train data to tokenize"
   ]
  },
  {
   "cell_type": "code",
   "execution_count": 25,
   "metadata": {
    "id": "iSKGw008t4Vh"
   },
   "outputs": [
    {
     "data": {
      "text/html": [
       "<div>\n",
       "<style scoped>\n",
       "    .dataframe tbody tr th:only-of-type {\n",
       "        vertical-align: middle;\n",
       "    }\n",
       "\n",
       "    .dataframe tbody tr th {\n",
       "        vertical-align: top;\n",
       "    }\n",
       "\n",
       "    .dataframe thead th {\n",
       "        text-align: right;\n",
       "    }\n",
       "</style>\n",
       "<table border=\"1\" class=\"dataframe\">\n",
       "  <thead>\n",
       "    <tr style=\"text-align: right;\">\n",
       "      <th></th>\n",
       "      <th>class</th>\n",
       "      <th>tweet</th>\n",
       "    </tr>\n",
       "  </thead>\n",
       "  <tbody>\n",
       "    <tr>\n",
       "      <th>0</th>\n",
       "      <td>0</td>\n",
       "      <td>know miss thud mean</td>\n",
       "    </tr>\n",
       "    <tr>\n",
       "      <th>1</th>\n",
       "      <td>1</td>\n",
       "      <td>think title</td>\n",
       "    </tr>\n",
       "    <tr>\n",
       "      <th>2</th>\n",
       "      <td>2</td>\n",
       "      <td>d intend someday</td>\n",
       "    </tr>\n",
       "    <tr>\n",
       "      <th>3</th>\n",
       "      <td>0</td>\n",
       "      <td>lllinkkk lllinkkk iiimageeelllinkkk choice roc...</td>\n",
       "    </tr>\n",
       "    <tr>\n",
       "      <th>4</th>\n",
       "      <td>1</td>\n",
       "      <td>lllinkkk mountain</td>\n",
       "    </tr>\n",
       "  </tbody>\n",
       "</table>\n",
       "</div>"
      ],
      "text/plain": [
       "   class                                              tweet\n",
       "0      0                                know miss thud mean\n",
       "1      1                                        think title\n",
       "2      2                                   d intend someday\n",
       "3      0  lllinkkk lllinkkk iiimageeelllinkkk choice roc...\n",
       "4      1                                  lllinkkk mountain"
      ]
     },
     "execution_count": 25,
     "metadata": {},
     "output_type": "execute_result"
    }
   ],
   "source": [
    "train_df.head()"
   ]
  },
  {
   "cell_type": "code",
   "execution_count": 26,
   "metadata": {
    "id": "uqNDYvKdsNu_"
   },
   "outputs": [
    {
     "data": {
      "text/plain": [
       "4269"
      ]
     },
     "execution_count": 26,
     "metadata": {},
     "output_type": "execute_result"
    }
   ],
   "source": [
    "max(train_df.tweet.map(str).apply(len))"
   ]
  },
  {
   "cell_type": "markdown",
   "metadata": {
    "id": "X1ccODD61Ust"
   },
   "source": [
    "**Tokenization**"
   ]
  },
  {
   "cell_type": "code",
   "execution_count": 27,
   "metadata": {
    "id": "itHrwjLQu3it"
   },
   "outputs": [],
   "source": [
    "import tensorflow as tf\n",
    "from tensorflow.keras.layers import TextVectorization\n",
    "#Text Vectorization means Tokenizing Words into integers\n",
    "vocab_size = 4500 #Since the max size of the tweet string is \n",
    "text2vec = TextVectorization(max_tokens=vocab_size,standardize=None,output_sequence_length=30) #Padding to same length\n",
    "\n",
    "#Fitting on Training Data\n",
    "text2vec.adapt(train['tweet'])"
   ]
  },
  {
   "cell_type": "markdown",
   "metadata": {},
   "source": [
    "# Implimenting LSTM Model\n"
   ]
  },
  {
   "cell_type": "markdown",
   "metadata": {
    "id": "sgOlc6LX1Wxf"
   },
   "source": [
    "Implimenting LSTM model having an Embedding layer, followed by 3 LSTM layers and a dense layer for output."
   ]
  },
  {
   "cell_type": "code",
   "execution_count": 28,
   "metadata": {
    "id": "xFQFuvnAEaPi"
   },
   "outputs": [],
   "source": [
    "#LSTM\n",
    "from tensorflow.keras.models import Sequential\n",
    "from tensorflow.keras import Input\n",
    "from tensorflow.keras.layers import Embedding, LSTM, Dense\n",
    "from sklearn.metrics import classification_report\n",
    "\n",
    "model = Sequential([\n",
    "    Input(shape=(1,), dtype=tf.string),text2vec,\n",
    "    Embedding(vocab_size, 64, input_length=30, mask_zero=True, name='Embedding'),\n",
    "    LSTM(64, return_sequences=True, activation='tanh', recurrent_activation='sigmoid', dropout=0.2, recurrent_dropout=0.2, name='LSTM1'),\n",
    "    LSTM(64, return_sequences=True, activation='tanh', recurrent_activation='sigmoid', dropout=0.2, recurrent_dropout=0.2, name='LSTM2'),\n",
    "    LSTM(64, return_sequences=False, activation='tanh', recurrent_activation='sigmoid', dropout=0.2, recurrent_dropout=0.2, name='LSTM3'), #Only return the final output\n",
    "    Dense(3, activation='softmax', name='Dense')\n",
    "])"
   ]
  },
  {
   "cell_type": "code",
   "execution_count": 29,
   "metadata": {
    "id": "RL8MDCzHEchE"
   },
   "outputs": [],
   "source": [
    "#complile the model\n",
    "model.compile(optimizer='adam', loss='sparse_categorical_crossentropy', metrics=['accuracy'])"
   ]
  },
  {
   "cell_type": "code",
   "execution_count": 30,
   "metadata": {
    "id": "k62yhzagEisz"
   },
   "outputs": [
    {
     "name": "stdout",
     "output_type": "stream",
     "text": [
      "Epoch 1/10\n",
      "1644/1644 [==============================] - 102s 60ms/step - loss: 0.8271 - accuracy: 0.6203 - val_loss: 0.8383 - val_accuracy: 0.6627\n",
      "Epoch 2/10\n",
      "1644/1644 [==============================] - 96s 59ms/step - loss: 0.7336 - accuracy: 0.6773 - val_loss: 0.8052 - val_accuracy: 0.6687\n",
      "Epoch 3/10\n",
      "1644/1644 [==============================] - 149s 90ms/step - loss: 0.7008 - accuracy: 0.6899 - val_loss: 0.8005 - val_accuracy: 0.6847\n",
      "Epoch 4/10\n",
      "1644/1644 [==============================] - 105s 64ms/step - loss: 0.6690 - accuracy: 0.7071 - val_loss: 0.8133 - val_accuracy: 0.6787\n",
      "Epoch 5/10\n",
      "1644/1644 [==============================] - 101s 61ms/step - loss: 0.6371 - accuracy: 0.7199 - val_loss: 0.8322 - val_accuracy: 0.6667\n",
      "Epoch 6/10\n",
      "1644/1644 [==============================] - 100s 61ms/step - loss: 0.6091 - accuracy: 0.7324 - val_loss: 0.8967 - val_accuracy: 0.6586\n",
      "Epoch 7/10\n",
      "1644/1644 [==============================] - 302s 184ms/step - loss: 0.5785 - accuracy: 0.7459 - val_loss: 0.9390 - val_accuracy: 0.6466\n",
      "Epoch 8/10\n",
      "1644/1644 [==============================] - 107s 65ms/step - loss: 0.5484 - accuracy: 0.7612 - val_loss: 0.9496 - val_accuracy: 0.6466\n",
      "Epoch 9/10\n",
      "1644/1644 [==============================] - 101s 61ms/step - loss: 0.5168 - accuracy: 0.7740 - val_loss: 0.9791 - val_accuracy: 0.6546\n",
      "Epoch 10/10\n",
      "1644/1644 [==============================] - 105s 64ms/step - loss: 0.4919 - accuracy: 0.7868 - val_loss: 1.0447 - val_accuracy: 0.6446\n"
     ]
    }
   ],
   "source": [
    "#fit the LSTM model to the training data and validating over validation data\n",
    "history = model.fit(train_df['tweet'], train_df['class'], epochs=10, batch_size=32 ,validation_data=(df_val['tweet'], df_val['class']))"
   ]
  },
  {
   "cell_type": "code",
   "execution_count": 31,
   "metadata": {
    "id": "8_6-W4lKbEgs"
   },
   "outputs": [
    {
     "data": {
      "text/plain": [
       "<AxesSubplot:>"
      ]
     },
     "execution_count": 31,
     "metadata": {},
     "output_type": "execute_result"
    },
    {
     "data": {
      "image/png": "[encoded data removed]",
      "text/plain": [
       "<Figure size 640x480 with 1 Axes>"
      ]
     },
     "metadata": {},
     "output_type": "display_data"
    }
   ],
   "source": [
    "pd.DataFrame(history.history).plot()#plotting the training pattern"
   ]
  },
  {
   "cell_type": "markdown",
   "metadata": {
    "id": "pDYBcqPk2mBg"
   },
   "source": [
    "On the training data the accuracy is increasing and loss is decreasing at every point but for validation data the accuracy is is not changing much but the loss is increasing.\n",
    "\n",
    "This shows that the model is slightly overfitted."
   ]
  },
  {
   "cell_type": "markdown",
   "metadata": {
    "id": "Ah32pJmY3YLN"
   },
   "source": [
    "We will now calculate accuracy, precision, recall, and F1 score of the model"
   ]
  },
  {
   "cell_type": "code",
   "execution_count": 32,
   "metadata": {
    "id": "TSmFyJtcEl60"
   },
   "outputs": [
    {
     "name": "stdout",
     "output_type": "stream",
     "text": [
      "1644/1644 [==============================] - 20s 12ms/step\n",
      "              precision    recall  f1-score   support\n",
      "\n",
      "           0       0.87      0.75      0.80      8397\n",
      "           1       0.82      0.86      0.84     23750\n",
      "           2       0.85      0.85      0.85     20443\n",
      "\n",
      "    accuracy                           0.84     52590\n",
      "   macro avg       0.85      0.82      0.83     52590\n",
      "weighted avg       0.84      0.84      0.84     52590\n",
      "\n"
     ]
    }
   ],
   "source": [
    " # Evaluate the model on the training data\n",
    "from sklearn.metrics import classification_report\n",
    "y_pred = model.predict(train_df['tweet'])\n",
    "y_pred = np.argmax(y_pred, axis=1)\n",
    "print(classification_report(train_df['class'], y_pred))"
   ]
  },
  {
   "cell_type": "markdown",
   "metadata": {
    "id": "e53opVxU3i65"
   },
   "source": [
    "These numbers seems nice for training data"
   ]
  },
  {
   "cell_type": "code",
   "execution_count": 33,
   "metadata": {
    "id": "_IbbOhDKDjOA"
   },
   "outputs": [
    {
     "name": "stdout",
     "output_type": "stream",
     "text": [
      "16/16 [==============================] - 0s 7ms/step\n",
      "              precision    recall  f1-score   support\n",
      "\n",
      "           0       0.78      0.54      0.64       177\n",
      "           1       0.52      0.71      0.60       139\n",
      "           2       0.69      0.70      0.70       182\n",
      "\n",
      "    accuracy                           0.64       498\n",
      "   macro avg       0.66      0.65      0.64       498\n",
      "weighted avg       0.67      0.64      0.65       498\n",
      "\n"
     ]
    }
   ],
   "source": [
    " # Evaluate the model on the validation data\n",
    "from sklearn.metrics import classification_report\n",
    "y_pred = model.predict(df_val['tweet'])\n",
    "y_pred = np.argmax(y_pred, axis=1)\n",
    "print(classification_report(df_val['class'], y_pred))"
   ]
  },
  {
   "cell_type": "markdown",
   "metadata": {
    "id": "WrUI-Twp3maq"
   },
   "source": [
    "On validation data these numbers are slightly less.\n",
    "\n",
    "Which shows that the model is overfitting in training data"
   ]
  },
  {
   "cell_type": "markdown",
   "metadata": {
    "id": "wRhf1VyV3xD1"
   },
   "source": [
    "We will now predict the class on test data which is obtained by scrapping the trending tweets online"
   ]
  },
  {
   "cell_type": "code",
   "execution_count": 34,
   "metadata": {
    "id": "us1OqeDcEqNh"
   },
   "outputs": [
    {
     "data": {
      "text/html": [
       "<div>\n",
       "<style scoped>\n",
       "    .dataframe tbody tr th:only-of-type {\n",
       "        vertical-align: middle;\n",
       "    }\n",
       "\n",
       "    .dataframe tbody tr th {\n",
       "        vertical-align: top;\n",
       "    }\n",
       "\n",
       "    .dataframe thead th {\n",
       "        text-align: right;\n",
       "    }\n",
       "</style>\n",
       "<table border=\"1\" class=\"dataframe\">\n",
       "  <thead>\n",
       "    <tr style=\"text-align: right;\">\n",
       "      <th></th>\n",
       "      <th>0</th>\n",
       "      <th>1</th>\n",
       "    </tr>\n",
       "  </thead>\n",
       "  <tbody>\n",
       "    <tr>\n",
       "      <th>0</th>\n",
       "      <td>1</td>\n",
       "      <td>Be kind to every kind not just mankind. #Turke...</td>\n",
       "    </tr>\n",
       "    <tr>\n",
       "      <th>1</th>\n",
       "      <td>2</td>\n",
       "      <td>Turkish Volunteers rescued a two-month-old gir...</td>\n",
       "    </tr>\n",
       "    <tr>\n",
       "      <th>2</th>\n",
       "      <td>3</td>\n",
       "      <td>Miracle!❤️👏🏼After 37 hours, a 5-year-old girl ...</td>\n",
       "    </tr>\n",
       "    <tr>\n",
       "      <th>3</th>\n",
       "      <td>4</td>\n",
       "      <td>This Syrian boy records himself from\\nunder th...</td>\n",
       "    </tr>\n",
       "    <tr>\n",
       "      <th>4</th>\n",
       "      <td>5</td>\n",
       "      <td>#TurkeySyriaEarthquake This broke my heart. Sh...</td>\n",
       "    </tr>\n",
       "  </tbody>\n",
       "</table>\n",
       "</div>"
      ],
      "text/plain": [
       "   0                                                  1\n",
       "0  1  Be kind to every kind not just mankind. #Turke...\n",
       "1  2  Turkish Volunteers rescued a two-month-old gir...\n",
       "2  3  Miracle!❤️👏🏼After 37 hours, a 5-year-old girl ...\n",
       "3  4  This Syrian boy records himself from\\nunder th...\n",
       "4  5  #TurkeySyriaEarthquake This broke my heart. Sh..."
      ]
     },
     "execution_count": 34,
     "metadata": {},
     "output_type": "execute_result"
    }
   ],
   "source": [
    "df_test = pd.read_csv(\"Tweets Scrapped.csv\",header=None)\n",
    "df_test.head()"
   ]
  },
  {
   "cell_type": "code",
   "execution_count": 35,
   "metadata": {
    "id": "DVeYj0OA5f4t"
   },
   "outputs": [],
   "source": [
    "df_test.drop([0], axis=1,inplace=True)\n",
    "df_test.rename(columns = {1:'tweet'}, inplace = True)\n",
    "test_df = df_test.copy() "
   ]
  },
  {
   "cell_type": "code",
   "execution_count": 36,
   "metadata": {
    "id": "qH_VfOe15a-K"
   },
   "outputs": [
    {
     "name": "stderr",
     "output_type": "stream",
     "text": [
      "C:\\Users\\pasri\\AppData\\Local\\Temp\\ipykernel_18420\\1276123956.py:8: DeprecationWarning: 'emoji.get_emoji_regexp()' is deprecated and will be removed in version 2.0.0. If you want to remove emoji from a string, consider the method emoji.replace_emoji(str, replace='').\n",
      "To hide this warning, pin/downgrade the package to 'emoji~=1.6.3'\n",
      "  return re.sub(emoji.get_emoji_regexp(), r\"\", text) #remove emoji\n"
     ]
    }
   ],
   "source": [
    "df_test[\"tweet\"] = df_test['tweet'].apply(lambda x: \" \".join([y.lemma_ for y in nlp(x) if not y.is_stop]))#preprocess the test data\n",
    "df_test['tweet'] = df_test['tweet'].apply(lambda x: remove_mult_spaces(filter_chars(clean_hashtags(strip_all_entities(strip_emoji(x))))))"
   ]
  },
  {
   "cell_type": "code",
   "execution_count": 37,
   "metadata": {
    "id": "kMEWv8euaSyM"
   },
   "outputs": [
    {
     "name": "stdout",
     "output_type": "stream",
     "text": [
      "1/1 [==============================] - 0s 18ms/step\n"
     ]
    }
   ],
   "source": [
    "y_pred = model.predict(df_test['tweet'])\n",
    "y_pred = np.argmax(y_pred, axis=1)\n",
    "df_test['class_pred'] = y_pred\n",
    "df_test['class_LSTM']=df_test['class_pred'].map({0:'negative',1:'neutral',2:'positive'})\n",
    "df_test.drop(['class_pred'],axis=1,inplace=True)\n",
    "#reults will be shown at the end"
   ]
  },
  {
   "cell_type": "markdown",
   "metadata": {},
   "source": [
    "# For SOTA model we are using Convolution 1D with GRU(2018)\n"
   ]
  },
  {
   "cell_type": "markdown",
   "metadata": {
    "id": "gtkZbGm32hOd"
   },
   "source": [
    "The article for reference-  https://journalofcloudcomputing.springeropen.com/articles/10.1186/s13677-022-00386-3\n",
    "\n"
   ]
  },
  {
   "cell_type": "code",
   "execution_count": 38,
   "metadata": {
    "id": "JwWJase_gu4N"
   },
   "outputs": [],
   "source": [
    "from tensorflow.keras.layers import Conv1D, GRU, MaxPooling1D"
   ]
  },
  {
   "cell_type": "code",
   "execution_count": 39,
   "metadata": {
    "id": "8XRvAg5-gkK7"
   },
   "outputs": [],
   "source": [
    "modelcon_gru = Sequential([Input(shape=(1,), dtype=tf.string),text2vec,\n",
    "    Embedding(vocab_size, 64, input_length=30, mask_zero=True, name='Embedding'),\n",
    "    Conv1D(32, 5, activation='tanh', padding='same'),\n",
    "    MaxPooling1D(2),\n",
    "    GRU(32, dropout=0.2, recurrent_dropout=0.2, return_sequences=False),\n",
    "    Dense(3, activation='softmax')\n",
    "])"
   ]
  },
  {
   "cell_type": "code",
   "execution_count": 40,
   "metadata": {
    "id": "Ciofr-Dfhk-b"
   },
   "outputs": [
    {
     "name": "stdout",
     "output_type": "stream",
     "text": [
      "Model: \"sequential_1\"\n",
      "_________________________________________________________________\n",
      " Layer (type)                Output Shape              Param #   \n",
      "=================================================================\n",
      " text_vectorization (TextVec  (None, 30)               0         \n",
      " torization)                                                     \n",
      "                                                                 \n",
      " Embedding (Embedding)       (None, 30, 64)            288000    \n",
      "                                                                 \n",
      " conv1d (Conv1D)             (None, 30, 32)            10272     \n",
      "                                                                 \n",
      " max_pooling1d (MaxPooling1D  (None, 15, 32)           0         \n",
      " )                                                               \n",
      "                                                                 \n",
      " gru (GRU)                   (None, 32)                6336      \n",
      "                                                                 \n",
      " dense (Dense)               (None, 3)                 99        \n",
      "                                                                 \n",
      "=================================================================\n",
      "Total params: 304,707\n",
      "Trainable params: 304,707\n",
      "Non-trainable params: 0\n",
      "_________________________________________________________________\n"
     ]
    }
   ],
   "source": [
    "modelcon_gru.summary()"
   ]
  },
  {
   "cell_type": "code",
   "execution_count": 41,
   "metadata": {
    "id": "fIqXba1ehrC3"
   },
   "outputs": [],
   "source": [
    "modelcon_gru.compile(optimizer='adam', loss='sparse_categorical_crossentropy', metrics=['accuracy'])"
   ]
  },
  {
   "cell_type": "code",
   "execution_count": 42,
   "metadata": {
    "id": "nkkVNXUfh6pQ"
   },
   "outputs": [
    {
     "name": "stdout",
     "output_type": "stream",
     "text": [
      "Epoch 1/10\n",
      "1644/1644 [==============================] - 19s 11ms/step - loss: 0.8807 - accuracy: 0.5708 - val_loss: 0.8536 - val_accuracy: 0.6486\n",
      "Epoch 2/10\n",
      "1644/1644 [==============================] - 18s 11ms/step - loss: 0.7220 - accuracy: 0.6836 - val_loss: 0.7889 - val_accuracy: 0.6827\n",
      "Epoch 3/10\n",
      "1644/1644 [==============================] - 316s 193ms/step - loss: 0.6643 - accuracy: 0.7127 - val_loss: 0.8063 - val_accuracy: 0.7008\n",
      "Epoch 4/10\n",
      "1644/1644 [==============================] - 16s 9ms/step - loss: 0.6026 - accuracy: 0.7435 - val_loss: 0.8773 - val_accuracy: 0.6908\n",
      "Epoch 5/10\n",
      "1644/1644 [==============================] - 16s 10ms/step - loss: 0.5315 - accuracy: 0.7793 - val_loss: 0.8963 - val_accuracy: 0.6787\n",
      "Epoch 6/10\n",
      "1644/1644 [==============================] - 18s 11ms/step - loss: 0.4609 - accuracy: 0.8126 - val_loss: 1.0564 - val_accuracy: 0.6466\n",
      "Epoch 7/10\n",
      "1644/1644 [==============================] - 21s 13ms/step - loss: 0.3950 - accuracy: 0.8414 - val_loss: 1.1157 - val_accuracy: 0.6466\n",
      "Epoch 8/10\n",
      "1644/1644 [==============================] - 27s 16ms/step - loss: 0.3440 - accuracy: 0.8649 - val_loss: 1.1921 - val_accuracy: 0.6305\n",
      "Epoch 9/10\n",
      "1644/1644 [==============================] - 28s 17ms/step - loss: 0.2995 - accuracy: 0.8832 - val_loss: 1.3066 - val_accuracy: 0.6325\n",
      "Epoch 10/10\n",
      "1644/1644 [==============================] - 27s 16ms/step - loss: 0.2683 - accuracy: 0.8966 - val_loss: 1.3090 - val_accuracy: 0.6426\n"
     ]
    }
   ],
   "source": [
    "history2 = modelcon_gru.fit(train_df['tweet'], train_df['class'], epochs=10, batch_size=32 ,validation_data=(df_val['tweet'], df_val['class']))"
   ]
  },
  {
   "cell_type": "code",
   "execution_count": 43,
   "metadata": {
    "id": "XY4-A9VLiCda"
   },
   "outputs": [
    {
     "data": {
      "text/plain": [
       "<AxesSubplot:>"
      ]
     },
     "execution_count": 43,
     "metadata": {},
     "output_type": "execute_result"
    },
    {
     "data": {
      "image/png": "[encoded data removed]",
      "text/plain": [
       "<Figure size 640x480 with 1 Axes>"
      ]
     },
     "metadata": {},
     "output_type": "display_data"
    }
   ],
   "source": [
    "pd.DataFrame(history2.history).plot()"
   ]
  },
  {
   "cell_type": "markdown",
   "metadata": {
    "id": "OWUqLkK64msW"
   },
   "source": [
    "On the training data the accuracy is increasing and loss is decreasing at every point but for validation data the accuracy is is not changing much but the loss is increasing.\n",
    "\n",
    "This shows that the model is slightly overfitted.\n",
    "\n",
    "We will now calculate accuracy, precision, recall, and F1 score of the model"
   ]
  },
  {
   "cell_type": "code",
   "execution_count": 44,
   "metadata": {
    "id": "rA2j3mnEiPQG"
   },
   "outputs": [
    {
     "name": "stdout",
     "output_type": "stream",
     "text": [
      "1644/1644 [==============================] - 8s 5ms/step\n",
      "              precision    recall  f1-score   support\n",
      "\n",
      "           0       0.93      0.93      0.93      8397\n",
      "           1       0.93      0.95      0.94     23750\n",
      "           2       0.96      0.94      0.95     20443\n",
      "\n",
      "    accuracy                           0.94     52590\n",
      "   macro avg       0.94      0.94      0.94     52590\n",
      "weighted avg       0.95      0.94      0.94     52590\n",
      "\n"
     ]
    }
   ],
   "source": [
    " # Evaluate the model on the testing data\n",
    "from sklearn.metrics import classification_report\n",
    "y_pred = modelcon_gru.predict(train_df['tweet'])\n",
    "y_pred = np.argmax(y_pred, axis=1)\n",
    "print(classification_report(train_df['class'], y_pred))"
   ]
  },
  {
   "cell_type": "markdown",
   "metadata": {
    "id": "ngqFBM7r5Ewy"
   },
   "source": [
    "These numbers seems nice for training data"
   ]
  },
  {
   "cell_type": "code",
   "execution_count": 45,
   "metadata": {
    "id": "Ekp1w43giVv7"
   },
   "outputs": [
    {
     "name": "stdout",
     "output_type": "stream",
     "text": [
      "16/16 [==============================] - 0s 3ms/step\n",
      "              precision    recall  f1-score   support\n",
      "\n",
      "           0       0.78      0.60      0.68       177\n",
      "           1       0.50      0.63      0.55       139\n",
      "           2       0.68      0.69      0.68       182\n",
      "\n",
      "    accuracy                           0.64       498\n",
      "   macro avg       0.65      0.64      0.64       498\n",
      "weighted avg       0.66      0.64      0.65       498\n",
      "\n"
     ]
    }
   ],
   "source": [
    " # Evaluate the model on the testing data\n",
    "from sklearn.metrics import classification_report\n",
    "y_pred = modelcon_gru.predict(df_val['tweet'])\n",
    "y_pred = np.argmax(y_pred, axis=1)\n",
    "print(classification_report(df_val['class'], y_pred))"
   ]
  },
  {
   "cell_type": "markdown",
   "metadata": {
    "id": "9a7y9wCD4y60"
   },
   "source": [
    "On validation data these numbers are slightly less.\n",
    "\n",
    "Which shows that the model is overfitting in training data"
   ]
  },
  {
   "cell_type": "code",
   "execution_count": 46,
   "metadata": {
    "id": "DTpXChoBiYw2"
   },
   "outputs": [
    {
     "name": "stdout",
     "output_type": "stream",
     "text": [
      "1/1 [==============================] - 0s 16ms/step\n"
     ]
    }
   ],
   "source": [
    "y_pred = modelcon_gru.predict(df_test['tweet'])\n",
    "y_pred = np.argmax(y_pred, axis=1)\n",
    "df_test['class_pred'] = y_pred\n",
    "df_test['class_GRUconv']=df_test['class_pred'].map({0:'negative',1:'neutral',2:'positive'})\n",
    "df_test.drop(['class_pred'],axis=1,inplace=True)"
   ]
  },
  {
   "cell_type": "markdown",
   "metadata": {},
   "source": [
    "# Results\n"
   ]
  },
  {
   "cell_type": "markdown",
   "metadata": {
    "id": "FUjjzba35OB3"
   },
   "source": [
    "**Convolution with GRU(Gated recurrent unit)** model trains works faster than LSTM because Convolution is parallely based while LSTM is sequential.\n",
    "\n",
    "Th results for sentiment analysis for the twitter data which is recently scrapped using both the model is given below "
   ]
  },
  {
   "cell_type": "code",
   "execution_count": 47,
   "metadata": {
    "id": "-CHzQI-Jl2W2"
   },
   "outputs": [
    {
     "data": {
      "text/html": [
       "<div>\n",
       "<style scoped>\n",
       "    .dataframe tbody tr th:only-of-type {\n",
       "        vertical-align: middle;\n",
       "    }\n",
       "\n",
       "    .dataframe tbody tr th {\n",
       "        vertical-align: top;\n",
       "    }\n",
       "\n",
       "    .dataframe thead th {\n",
       "        text-align: right;\n",
       "    }\n",
       "</style>\n",
       "<table border=\"1\" class=\"dataframe\">\n",
       "  <thead>\n",
       "    <tr style=\"text-align: right;\">\n",
       "      <th></th>\n",
       "      <th>tweet</th>\n",
       "      <th>class_LSTM</th>\n",
       "      <th>class_GRUconv</th>\n",
       "    </tr>\n",
       "  </thead>\n",
       "  <tbody>\n",
       "    <tr>\n",
       "      <th>0</th>\n",
       "      <td>Be kind to every kind not just mankind. #Turke...</td>\n",
       "      <td>neutral</td>\n",
       "      <td>positive</td>\n",
       "    </tr>\n",
       "    <tr>\n",
       "      <th>1</th>\n",
       "      <td>Turkish Volunteers rescued a two-month-old gir...</td>\n",
       "      <td>neutral</td>\n",
       "      <td>negative</td>\n",
       "    </tr>\n",
       "    <tr>\n",
       "      <th>2</th>\n",
       "      <td>Miracle!❤️👏🏼After 37 hours, a 5-year-old girl ...</td>\n",
       "      <td>neutral</td>\n",
       "      <td>positive</td>\n",
       "    </tr>\n",
       "    <tr>\n",
       "      <th>3</th>\n",
       "      <td>This Syrian boy records himself from\\nunder th...</td>\n",
       "      <td>neutral</td>\n",
       "      <td>neutral</td>\n",
       "    </tr>\n",
       "    <tr>\n",
       "      <th>4</th>\n",
       "      <td>#TurkeySyriaEarthquake This broke my heart. Sh...</td>\n",
       "      <td>negative</td>\n",
       "      <td>neutral</td>\n",
       "    </tr>\n",
       "    <tr>\n",
       "      <th>5</th>\n",
       "      <td>She continued to protect her brother's head un...</td>\n",
       "      <td>positive</td>\n",
       "      <td>positive</td>\n",
       "    </tr>\n",
       "    <tr>\n",
       "      <th>6</th>\n",
       "      <td>\"i love you hiyyih, don't let anyone bring you...</td>\n",
       "      <td>positive</td>\n",
       "      <td>positive</td>\n",
       "    </tr>\n",
       "    <tr>\n",
       "      <th>7</th>\n",
       "      <td>“I just want to let you know I love you bro.”\\...</td>\n",
       "      <td>positive</td>\n",
       "      <td>neutral</td>\n",
       "    </tr>\n",
       "    <tr>\n",
       "      <th>8</th>\n",
       "      <td>I condemn this awful targeting of Ms Mahua Moi...</td>\n",
       "      <td>negative</td>\n",
       "      <td>negative</td>\n",
       "    </tr>\n",
       "    <tr>\n",
       "      <th>9</th>\n",
       "      <td>I miss my Ami 💜\\nI love you 💜</td>\n",
       "      <td>positive</td>\n",
       "      <td>positive</td>\n",
       "    </tr>\n",
       "    <tr>\n",
       "      <th>10</th>\n",
       "      <td>Bunny army propose you 😆😆😆\\nAnswer them? 🤣🤣🤣🤣🤣🤣</td>\n",
       "      <td>negative</td>\n",
       "      <td>neutral</td>\n",
       "    </tr>\n",
       "    <tr>\n",
       "      <th>11</th>\n",
       "      <td>How many times Ravi Ashwin will get Steve Smit...</td>\n",
       "      <td>neutral</td>\n",
       "      <td>neutral</td>\n",
       "    </tr>\n",
       "    <tr>\n",
       "      <th>12</th>\n",
       "      <td>minghao my babie i love you 🥹</td>\n",
       "      <td>positive</td>\n",
       "      <td>positive</td>\n",
       "    </tr>\n",
       "    <tr>\n",
       "      <th>13</th>\n",
       "      <td>Kapil Dev’s tough love for Rishabh Pant ❤️\\n\\n...</td>\n",
       "      <td>positive</td>\n",
       "      <td>neutral</td>\n",
       "    </tr>\n",
       "    <tr>\n",
       "      <th>14</th>\n",
       "      <td>Kapil Paji Loves ♥️Rishabh Pant 💯http://daddys...</td>\n",
       "      <td>positive</td>\n",
       "      <td>positive</td>\n",
       "    </tr>\n",
       "    <tr>\n",
       "      <th>15</th>\n",
       "      <td>Powell: the balance sheet is $8.4 Trillion \\n\\...</td>\n",
       "      <td>negative</td>\n",
       "      <td>neutral</td>\n",
       "    </tr>\n",
       "    <tr>\n",
       "      <th>16</th>\n",
       "      <td>Worst er than terrorism</td>\n",
       "      <td>neutral</td>\n",
       "      <td>neutral</td>\n",
       "    </tr>\n",
       "    <tr>\n",
       "      <th>17</th>\n",
       "      <td>What about Adani's development &amp; his shell com...</td>\n",
       "      <td>negative</td>\n",
       "      <td>negative</td>\n",
       "    </tr>\n",
       "    <tr>\n",
       "      <th>18</th>\n",
       "      <td>When Anubhav Sinha said, “People wanted #SRK t...</td>\n",
       "      <td>neutral</td>\n",
       "      <td>neutral</td>\n",
       "    </tr>\n",
       "    <tr>\n",
       "      <th>19</th>\n",
       "      <td>#VenkyAtluri sharing his Audio Launch experien...</td>\n",
       "      <td>positive</td>\n",
       "      <td>positive</td>\n",
       "    </tr>\n",
       "    <tr>\n",
       "      <th>20</th>\n",
       "      <td>2 Minutes to go🔥❤ Finally Waiting is over for ...</td>\n",
       "      <td>positive</td>\n",
       "      <td>positive</td>\n",
       "    </tr>\n",
       "    <tr>\n",
       "      <th>21</th>\n",
       "      <td>#NarendraModiSpeech I swear no one can compete...</td>\n",
       "      <td>positive</td>\n",
       "      <td>negative</td>\n",
       "    </tr>\n",
       "    <tr>\n",
       "      <th>22</th>\n",
       "      <td>Secret of success by \\nPM Modi in 39 seconds 🙌...</td>\n",
       "      <td>neutral</td>\n",
       "      <td>neutral</td>\n",
       "    </tr>\n",
       "    <tr>\n",
       "      <th>23</th>\n",
       "      <td>Wow looks like dougie wougie slipped you a lit...</td>\n",
       "      <td>negative</td>\n",
       "      <td>positive</td>\n",
       "    </tr>\n",
       "    <tr>\n",
       "      <th>24</th>\n",
       "      <td>What is with Jill Biden French kissing Kamala ...</td>\n",
       "      <td>negative</td>\n",
       "      <td>negative</td>\n",
       "    </tr>\n",
       "  </tbody>\n",
       "</table>\n",
       "</div>"
      ],
      "text/plain": [
       "                                                tweet class_LSTM class_GRUconv\n",
       "0   Be kind to every kind not just mankind. #Turke...    neutral      positive\n",
       "1   Turkish Volunteers rescued a two-month-old gir...    neutral      negative\n",
       "2   Miracle!❤️👏🏼After 37 hours, a 5-year-old girl ...    neutral      positive\n",
       "3   This Syrian boy records himself from\\nunder th...    neutral       neutral\n",
       "4   #TurkeySyriaEarthquake This broke my heart. Sh...   negative       neutral\n",
       "5   She continued to protect her brother's head un...   positive      positive\n",
       "6   \"i love you hiyyih, don't let anyone bring you...   positive      positive\n",
       "7   “I just want to let you know I love you bro.”\\...   positive       neutral\n",
       "8   I condemn this awful targeting of Ms Mahua Moi...   negative      negative\n",
       "9                       I miss my Ami 💜\\nI love you 💜   positive      positive\n",
       "10    Bunny army propose you 😆😆😆\\nAnswer them? 🤣🤣🤣🤣🤣🤣   negative       neutral\n",
       "11  How many times Ravi Ashwin will get Steve Smit...    neutral       neutral\n",
       "12                      minghao my babie i love you 🥹   positive      positive\n",
       "13  Kapil Dev’s tough love for Rishabh Pant ❤️\\n\\n...   positive       neutral\n",
       "14  Kapil Paji Loves ♥️Rishabh Pant 💯http://daddys...   positive      positive\n",
       "15  Powell: the balance sheet is $8.4 Trillion \\n\\...   negative       neutral\n",
       "16                            Worst er than terrorism    neutral       neutral\n",
       "17  What about Adani's development & his shell com...   negative      negative\n",
       "18  When Anubhav Sinha said, “People wanted #SRK t...    neutral       neutral\n",
       "19  #VenkyAtluri sharing his Audio Launch experien...   positive      positive\n",
       "20  2 Minutes to go🔥❤ Finally Waiting is over for ...   positive      positive\n",
       "21  #NarendraModiSpeech I swear no one can compete...   positive      negative\n",
       "22  Secret of success by \\nPM Modi in 39 seconds 🙌...    neutral       neutral\n",
       "23  Wow looks like dougie wougie slipped you a lit...   negative      positive\n",
       "24  What is with Jill Biden French kissing Kamala ...   negative      negative"
      ]
     },
     "execution_count": 47,
     "metadata": {},
     "output_type": "execute_result"
    }
   ],
   "source": [
    "df_test['tweet'] = test_df['tweet']\n",
    "df_test"
   ]
  }
 ],
 "metadata": {
  "accelerator": "GPU",
  "colab": {
   "machine_shape": "hm",
   "provenance": []
  },
  "gpuClass": "standard",
  "kernelspec": {
   "display_name": "Python 3 (ipykernel)",
   "language": "python",
   "name": "python3"
  },
  "language_info": {
   "codemirror_mode": {
    "name": "ipython",
    "version": 3
   },
   "file_extension": ".py",
   "mimetype": "text/x-python",
   "name": "python",
   "nbconvert_exporter": "python",
   "pygments_lexer": "ipython3",
   "version": "3.9.13"
  }
 },
 "nbformat": 4,
 "nbformat_minor": 1
}
